{
 "cells": [
  {
   "attachments": {},
   "cell_type": "markdown",
   "id": "c3b31311-c4da-43d1-b074-6b0432da7ea3",
   "metadata": {},
   "source": [
    "# Design and operations of energy technologies for a household (PV, heat pump, battery)\n",
    "\n",
    "\n",
    "In this case study we find the optimal sizes and operations of a heat pump, a set of solar panels and a battery to power the energy needs (heat and electricity) of a household over 1 year. The household, which has certain heat and electricity demand profiles, has an existing connection to the grid and an existing gas boiler. The emissions of CO2 are taxed."
   ]
  },
  {
   "cell_type": "markdown",
   "id": "c76a7dea-3a71-4286-b28b-1259124a8df0",
   "metadata": {},
   "source": [
    "## Create templates\n",
    "We set the input data path and in this directory we can add input data templates for the model configuration and the topology with the function create_optimization_templates.\n"
   ]
  },
  {
   "cell_type": "code",
   "execution_count": 1,
   "id": "35fa511b-d815-43d0-bf9f-21ca339151cf",
   "metadata": {},
   "outputs": [
    {
     "name": "stdout",
     "output_type": "stream",
     "text": [
      "Files already exist: caseStudies\\household\\Topology.json caseStudies\\household\\ConfigModel.json\n"
     ]
    }
   ],
   "source": [
    "import adopt_net0 as adopt\n",
    "import json\n",
    "import pandas as pd\n",
    "from pathlib import Path\n",
    "import numpy as np\n",
    "\n",
    "input_data_path = Path(\"./caseStudies/household\")\n",
    "adopt.create_optimization_templates(input_data_path)"
   ]
  },
  {
   "cell_type": "markdown",
   "id": "f0d8ee0c-234f-4222-a2b0-700540c1292a",
   "metadata": {},
   "source": [
    "## Adapt Topology\n",
    "We need to adapt the topology as well as the model configuration file to our case study. This can be done either in the file itself (Topology.json) or, as we do it here, via some lines of code.\n",
    "For the topology, we need to change the following:\n",
    "- Change nodes: household\n",
    "- Change carriers: electricity, heat and gas\n",
    "- Change investment periods: period1\n",
    "- The options regarding the time frame we can leave at the default (one year with hourly operation)"
   ]
  },
  {
   "cell_type": "code",
   "execution_count": 2,
   "id": "5ad41f8f-43cc-4edd-a663-e66c8969339a",
   "metadata": {},
   "outputs": [],
   "source": [
    "# Load json template\n",
    "with open(input_data_path / \"Topology.json\", \"r\") as json_file:\n",
    "    topology = json.load(json_file)\n",
    "# Nodes\n",
    "topology[\"nodes\"] = [\"household\"]\n",
    "# Carriers:\n",
    "topology[\"carriers\"] = [\"electricity\", \"heat\", \"gas\"]\n",
    "# Investment periods:\n",
    "topology[\"investment_periods\"] = [\"period1\"]\n",
    "# Save json template\n",
    "with open(input_data_path / \"Topology.json\", \"w\") as json_file:\n",
    "    json.dump(topology, json_file, indent=4)\n"
   ]
  },
  {
   "cell_type": "markdown",
   "id": "ad6ca662-97ac-4899-a03c-7a9fa591d28c",
   "metadata": {},
   "source": [
    "## Adapt Model Configurations\n",
    "Now, we need to adapt the model configurations respectively. In this case, we don't use any particular algorithm (clustering, time staging etc), so here we only specify what we want to minimize - costs in this example - and set the gap for the MILP solver to a desired value. \n"
   ]
  },
  {
   "cell_type": "code",
   "execution_count": 3,
   "id": "f459d0aa-b2b6-40a9-b63c-1f55bfbdd07f",
   "metadata": {},
   "outputs": [],
   "source": [
    "# Load json template\n",
    "with open(input_data_path / \"ConfigModel.json\", \"r\") as json_file:\n",
    "    configuration = json.load(json_file)\n",
    "# Change objective\n",
    "configuration[\"optimization\"][\"objective\"][\"value\"] = \"costs\"\n",
    "# Set MILP gap\n",
    "configuration[\"solveroptions\"][\"mipgap\"][\"value\"] = 0.02\n",
    "# Save json template\n",
    "with open(input_data_path / \"ConfigModel.json\", \"w\") as json_file:\n",
    "    json.dump(configuration, json_file, indent=4)"
   ]
  },
  {
   "cell_type": "markdown",
   "id": "eeba77ce-2e8f-451e-9f58-408121561959",
   "metadata": {},
   "source": [
    "## Define input data\n",
    "We first create all required input data files based on the topology file and then add the existing technologies (gas boiler, 3kW capacity) and potential new technologies (heat pump, PV, battery). Since we have potentially a PV, we need to specify the location of the household.\n",
    "Additionally, we copy over technology data to the input data folder\n"
   ]
  },
  {
   "cell_type": "code",
   "execution_count": 4,
   "id": "090672de-cd62-46ed-af4b-86c70e69f659",
   "metadata": {},
   "outputs": [],
   "source": [
    "adopt.create_input_data_folder_template(input_data_path)\n",
    "\n",
    "# Add heat pump, PV and battery as new technologies\n",
    "with open(input_data_path / \"period1\" / \"node_data\" / \"household\" / \"Technologies.json\", \"r\") as json_file:\n",
    "    technologies = json.load(json_file)\n",
    "technologies[\"new\"] = [\"Photovoltaic\",\"HeatPump_AirSourced\",\"Storage_Battery\"]\n",
    "technologies[\"existing\"] = {\"Boiler_Small_NG\": 0.003}\n",
    "\n",
    "with open(input_data_path / \"period1\" / \"node_data\" / \"household\" / \"Technologies.json\", \"w\") as json_file:\n",
    "    json.dump(technologies, json_file, indent=4)\n",
    "\n",
    "# Copy over technology files\n",
    "adopt.copy_technology_data(input_data_path)\n",
    "\n",
    "# Specify location of the household\n",
    "node_location = pd.read_csv(input_data_path / \"NodeLocations.csv\", sep=';', index_col=0, header=0)\n",
    "node_lon = 4.9\n",
    "node_lat = 52\n",
    "node_alt = 10\n",
    "node_name = 'household'\n",
    "node_location.at['household', 'lon'] = node_lon\n",
    "node_location.at['household', 'lat'] = node_lat\n",
    "node_location.at['household', 'alt'] = node_alt\n",
    "node_location = node_location.reset_index()\n",
    "node_location.to_csv(input_data_path / \"NodeLocations.csv\", sep=';', index=False)\n"
   ]
  },
  {
   "cell_type": "markdown",
   "id": "a79ac7c3-249a-4795-b19e-5ddbaa11ca49",
   "metadata": {},
   "source": [
    "## Read demand data, import limits/price\n",
    "In this case study we want to model an hourly heat and electricity demand of the household, with variable electricity prices. In addition, we set a fixed value for gas and electricity import limits and gas prices. As such we:\n",
    "- Read day-ahead electricity prices (hourly for the Netherlands in 2023)\n",
    "- Read hourly heat (total 7.3MWh) and electricity demand (total 4MWh)\n",
    "- Limit import of gas (5kW) and electricity (8kW)\n",
    "- Set an import price on gas of 120 EUR/MWh\n",
    "\n",
    "Finally, we set a carbon tax to 100 EUR/t.\n",
    "\n",
    "N.B all the data should be in MW, EUR/MWh, EUR/t, t/MWh"
   ]
  },
  {
   "cell_type": "code",
   "execution_count": 5,
   "id": "db1cc45c-6734-4a5b-b1ec-11af446ab43e",
   "metadata": {},
   "outputs": [],
   "source": [
    "# Read hourly data from Excel\n",
    "user_input_path = \"./caseStudies/data/data_household.xlsx\"\n",
    "household_hourly_data = pd.read_excel(user_input_path, header=0, nrows=8760)\n",
    "\n",
    "# Save the hourly data to the carrier's file in the case study folder\n",
    "# electricity demand and price\n",
    "el_price = household_hourly_data.iloc[:, 2]\n",
    "el_demand = household_hourly_data.iloc[:, 1]\n",
    "heat_demand = household_hourly_data.iloc[:, 0]\n",
    "adopt.fill_carrier_data(input_data_path, value_or_data=el_price, columns=['Import price'], carriers=['electricity'], nodes=['household'])\n",
    "adopt.fill_carrier_data(input_data_path, value_or_data=el_price, columns=['Export price'], carriers=['electricity'], nodes=['household'])\n",
    "adopt.fill_carrier_data(input_data_path, value_or_data=el_demand, columns=['Demand'], carriers=['electricity'], nodes=['household'])\n",
    "adopt.fill_carrier_data(input_data_path, value_or_data=heat_demand, columns=['Demand'], carriers=['heat'], nodes=['household'])\n",
    "\n",
    "# Set import limits/cost\n",
    "adopt.fill_carrier_data(input_data_path, value_or_data=0.005, columns=['Import limit'], carriers=['gas'], nodes=['household'])\n",
    "adopt.fill_carrier_data(input_data_path, value_or_data=0.008, columns=['Import limit'], carriers=['electricity'], nodes=['household'])\n",
    "adopt.fill_carrier_data(input_data_path, value_or_data=120, columns=['Import price'], carriers=['gas'], nodes=['household'])\n",
    "\n",
    "# Set carbon emission price\n",
    "carbon_price = np.ones(8760)*100\n",
    "carbon_cost_path = \"./caseStudies/household/period1/node_data/household/CarbonCost.csv\"\n",
    "carbon_cost_template = pd.read_csv(carbon_cost_path, sep=';', index_col=0, header=0)\n",
    "carbon_cost_template['price'] = carbon_price\n",
    "carbon_cost_template = carbon_cost_template.reset_index()\n",
    "carbon_cost_template.to_csv(carbon_cost_path, sep=';', index=False)"
   ]
  },
  {
   "cell_type": "markdown",
   "id": "af3c3914-594d-4064-81d7-10534bafb223",
   "metadata": {},
   "source": [
    "## Run model\n",
    "Now, we have defined all required data to run the model"
   ]
  },
  {
   "cell_type": "code",
   "execution_count": 6,
   "id": "193d2a5c-6121-454a-bf1e-f06796add068",
   "metadata": {},
   "outputs": [
    {
     "name": "stderr",
     "output_type": "stream",
     "text": [
      "INFO:--- Reading in data ---\n",
      "INFO:Input data folder has been checked successfully - no errors occurred.\n",
      "INFO:Topology read successfully\n",
      "INFO:Model Configuration read successfully\n",
      "INFO:Model Configuration used: {\"optimization\": {\"objective\": {\"description\": \"String specifying the objective/type of optimization.\", \"options\": [\"costs\", \"emissions_pos\", \"emissions_net\", \"emissions_minC\", \"costs_emissionlimit\", \"pareto\"], \"value\": \"costs\"}, \"emission_limit\": {\"description\": \"emission limit to be enforced if objective function is costs_emissionlimit\", \"value\": 0}, \"monte_carlo\": {\"N\": {\"description\": \"Number of Monte Carlo simulations (0 = off).\", \"value\": 0}, \"type\": {\"description\": \"Type of Monte Carlo simulation. For type 1 the user defines the standard deviation and the components to vary. For type 2 the user provides a csv file with the parameters and their min, max and reference values. \", \"options\": [\"normal_dis\", \"uniform_dis_from_file\"], \"value\": \"normal_dis\"}, \"sd\": {\"description\": \"Value defining the range in which variables are varied in Monte Carlo simulations (defined as the standard deviation of the original value).\", \"value\": 0.2}, \"on_what\": {\"description\": \"List: Defines component to vary.\", \"options\": [\"Technologies\", \"Networks\", \"Import\", \"Export\"], \"value\": [\"Technologies\"]}}, \"pareto_points\": {\"description\": \"Number of Pareto points.\", \"value\": 5}, \"timestaging\": {\"description\": \"Defines number of timesteps that are averaged (0 = off).\", \"value\": 0}, \"typicaldays\": {\"N\": {\"description\": \"Determines number of typical days (0 = off).\", \"value\": 0}, \"method\": {\"description\": \"Determine method used for modeling technologies with typical days.\", \"options\": [1, 2], \"value\": 2}, \"technologies_with_full_res\": {\"description\": \"If method 2 is chosen, list determines which technologies are modelled at full resolution. Should be at least all storage technologies.\", \"options\": [], \"value\": [\"RES\", \"STOR\", \"Hydro_Open\"]}}, \"multiyear\": {\"description\": \"Enable multiyear analysis, if turned off max time horizon is 1 year.\", \"options\": [0, 1], \"value\": 0}}, \"solveroptions\": {\"solver\": {\"description\": \"String specifying the solver used.\", \"value\": \"gurobi\"}, \"mipgap\": {\"description\": \"Value to define MIP gap.\", \"value\": 0.02}, \"timelim\": {\"description\": \"Value to define time limit in hours.\", \"value\": 10}, \"threads\": {\"description\": \"Value to define number of threads (default is maximum available).\", \"value\": 0}, \"mipfocus\": {\"description\": \"Modifies high level solution strategy.\", \"options\": [0, 1, 2, 3], \"value\": 0}, \"nodefilestart\": {\"description\": \"Parameter to decide when nodes are compressed and written to disk.\", \"value\": 60}, \"method\": {\"description\": \"Defines algorithm used to solve continuous models.\", \"options\": [-1, 0, 1, 2, 3, 4, 5], \"value\": -1}, \"heuristics\": {\"description\": \"Parameter to determine amount of time spent in MIP heuristics.\", \"value\": 0.05}, \"presolve\": {\"description\": \"Controls the presolve level.\", \"options\": [-1, 0, 1, 2], \"value\": -1}, \"branchdir\": {\"description\": \"Determines which child node is explored first in the branch-and-cut.\", \"options\": [-1, 0, 1], \"value\": 0}, \"lpwarmstart\": {\"description\": \"Controls whether and how warm start information is used for LP.\", \"options\": [0, 1, 2], \"value\": 0}, \"intfeastol\": {\"description\": \"Value that determines the integer feasibility tolerance.\", \"value\": 1e-05}, \"feastol\": {\"description\": \"Value that determines feasibility for all constraints.\", \"value\": 1e-06}, \"numericfocus\": {\"description\": \"Degree of which Gurobi tries to detect and manage numeric issues.\", \"options\": [0, 1, 2, 3], \"value\": 0}, \"cuts\": {\"description\": \"Setting defining the aggressiveness of the global cut.\", \"options\": [-1, 0, 1, 2, 3], \"value\": -1}}, \"reporting\": {\"save_detailed\": {\"description\": \"Setting to select how the results are saved. When turned off only the summary is saved.\", \"options\": [0, 1], \"value\": 1}, \"save_summary_path\": {\"description\": \"Path to save the summary file path to.\", \"value\": \"./userData/\"}, \"save_path\": {\"description\": \"Option to define the save path.\", \"value\": \"./userData/\"}, \"case_name\": {\"description\": \"Option to define a case study name that is added to the results folder name.\", \"value\": -1}, \"write_solution_diagnostics\": {\"description\": \"If 1, writes solution quality, if 2 also writes pyomo to Gurobi variable map and constraint map to file.\", \"options\": [0, 1, 2], \"value\": 0}}, \"energybalance\": {\"violation\": {\"description\": \"Determines the energy balance violation price (-1 is no violation allowed).\", \"value\": -1}, \"copperplate\": {\"description\": \"Determines if a copperplate approach is used.\", \"options\": [0, 1], \"value\": 0}}, \"economic\": {\"global_discountrate\": {\"description\": \"Determines if and which global discount rate is used. This holds for the CAPEX of all technologies and networks.\", \"value\": -1}, \"global_simple_capex_model\": {\"description\": \"Determines if the CAPEX model of technologies is set to 1 for all technologies.\", \"options\": [0, 1], \"value\": 0}}, \"performance\": {\"dynamics\": {\"description\": \"Determines if dynamics are used.\", \"options\": [0, 1], \"value\": 0}}, \"scaling\": {\"scaling_on\": {\"description\": \"Determines if the model is scaled. If 1, it uses global and component specific scaling factors.\", \"options\": [0, 1], \"value\": 0}, \"scaling_factors\": {\"energy_vars\": {\"description\": \"Scaling factor used for all energy variables.\", \"value\": 0.001}, \"cost_vars\": {\"description\": \"Scaling factor used for all cost variables.\", \"value\": 0.001}, \"objective\": {\"description\": \"Scaling factor used for the objective function.\", \"value\": 1}}}}\n",
      "INFO:Found NaN values in data for investment period period1, node household, key1 CarbonCost, carrier global, key2 subsidy. Replaced with zeros.\n",
      "INFO:Found NaN values in data for investment period period1, node household, key1 ClimateData, carrier global, key2 ghi. Replaced with zeros.\n",
      "INFO:Found NaN values in data for investment period period1, node household, key1 ClimateData, carrier global, key2 dni. Replaced with zeros.\n",
      "INFO:Found NaN values in data for investment period period1, node household, key1 ClimateData, carrier global, key2 dhi. Replaced with zeros.\n",
      "INFO:Found NaN values in data for investment period period1, node household, key1 ClimateData, carrier global, key2 temp_air. Replaced with zeros.\n",
      "INFO:Found NaN values in data for investment period period1, node household, key1 ClimateData, carrier global, key2 rh. Replaced with zeros.\n",
      "INFO:Found NaN values in data for investment period period1, node household, key1 ClimateData, carrier global, key2 ws10. Replaced with zeros.\n",
      "INFO:Found NaN values in data for investment period period1, node household, key1 ClimateData, carrier global, key2 TECHNOLOGYNAME_hydro_inflow. Replaced with zeros.\n",
      "INFO:Found NaN values in data for investment period period1, node household, key1 CarrierData, carrier electricity, key2 Export limit. Replaced with zeros.\n",
      "INFO:Found NaN values in data for investment period period1, node household, key1 CarrierData, carrier electricity, key2 Import emission factor. Replaced with zeros.\n",
      "INFO:Found NaN values in data for investment period period1, node household, key1 CarrierData, carrier electricity, key2 Export emission factor. Replaced with zeros.\n",
      "INFO:Found NaN values in data for investment period period1, node household, key1 CarrierData, carrier electricity, key2 Generic production. Replaced with zeros.\n"
     ]
    },
    {
     "name": "stdout",
     "output_type": "stream",
     "text": [
      "--- Reading in data ---\n",
      "Input data folder has been checked successfully - no errors occurred.\n",
      "Topology read successfully\n",
      "Model Configuration read successfully\n",
      "Found NaN values in data for investment period period1, node household, key1 CarbonCost, carrier global, key2 subsidy. Replaced with zeros.\n",
      "Found NaN values in data for investment period period1, node household, key1 ClimateData, carrier global, key2 ghi. Replaced with zeros.\n",
      "Found NaN values in data for investment period period1, node household, key1 ClimateData, carrier global, key2 dni. Replaced with zeros.\n",
      "Found NaN values in data for investment period period1, node household, key1 ClimateData, carrier global, key2 dhi. Replaced with zeros.\n",
      "Found NaN values in data for investment period period1, node household, key1 ClimateData, carrier global, key2 temp_air. Replaced with zeros.\n",
      "Found NaN values in data for investment period period1, node household, key1 ClimateData, carrier global, key2 rh. Replaced with zeros.\n",
      "Found NaN values in data for investment period period1, node household, key1 ClimateData, carrier global, key2 ws10. Replaced with zeros.\n",
      "Found NaN values in data for investment period period1, node household, key1 ClimateData, carrier global, key2 TECHNOLOGYNAME_hydro_inflow. Replaced with zeros.\n",
      "Found NaN values in data for investment period period1, node household, key1 CarrierData, carrier electricity, key2 Export limit. Replaced with zeros.\n",
      "Found NaN values in data for investment period period1, node household, key1 CarrierData, carrier electricity, key2 Import emission factor. Replaced with zeros.\n",
      "Found NaN values in data for investment period period1, node household, key1 CarrierData, carrier electricity, key2 Export emission factor. Replaced with zeros.\n"
     ]
    },
    {
     "name": "stderr",
     "output_type": "stream",
     "text": [
      "INFO:Found NaN values in data for investment period period1, node household, key1 CarrierData, carrier heat, key2 Import limit. Replaced with zeros.\n",
      "INFO:Found NaN values in data for investment period period1, node household, key1 CarrierData, carrier heat, key2 Export limit. Replaced with zeros.\n",
      "INFO:Found NaN values in data for investment period period1, node household, key1 CarrierData, carrier heat, key2 Import price. Replaced with zeros.\n",
      "INFO:Found NaN values in data for investment period period1, node household, key1 CarrierData, carrier heat, key2 Export price. Replaced with zeros.\n",
      "INFO:Found NaN values in data for investment period period1, node household, key1 CarrierData, carrier heat, key2 Import emission factor. Replaced with zeros.\n",
      "INFO:Found NaN values in data for investment period period1, node household, key1 CarrierData, carrier heat, key2 Export emission factor. Replaced with zeros.\n",
      "INFO:Found NaN values in data for investment period period1, node household, key1 CarrierData, carrier heat, key2 Generic production. Replaced with zeros.\n",
      "INFO:Found NaN values in data for investment period period1, node household, key1 CarrierData, carrier gas, key2 Demand. Replaced with zeros.\n",
      "INFO:Found NaN values in data for investment period period1, node household, key1 CarrierData, carrier gas, key2 Export limit. Replaced with zeros.\n",
      "INFO:Found NaN values in data for investment period period1, node household, key1 CarrierData, carrier gas, key2 Export price. Replaced with zeros.\n",
      "INFO:Found NaN values in data for investment period period1, node household, key1 CarrierData, carrier gas, key2 Import emission factor. Replaced with zeros.\n",
      "INFO:Found NaN values in data for investment period period1, node household, key1 CarrierData, carrier gas, key2 Export emission factor. Replaced with zeros.\n",
      "INFO:Found NaN values in data for investment period period1, node household, key1 CarrierData, carrier gas, key2 Generic production. Replaced with zeros.\n",
      "INFO:Time series read successfully\n",
      "INFO:Node Locations read successfully\n",
      "INFO:Energy balance options read successfully\n"
     ]
    },
    {
     "name": "stdout",
     "output_type": "stream",
     "text": [
      "Found NaN values in data for investment period period1, node household, key1 CarrierData, carrier electricity, key2 Generic production. Replaced with zeros.\n",
      "Found NaN values in data for investment period period1, node household, key1 CarrierData, carrier heat, key2 Import limit. Replaced with zeros.\n",
      "Found NaN values in data for investment period period1, node household, key1 CarrierData, carrier heat, key2 Export limit. Replaced with zeros.\n",
      "Found NaN values in data for investment period period1, node household, key1 CarrierData, carrier heat, key2 Import price. Replaced with zeros.\n",
      "Found NaN values in data for investment period period1, node household, key1 CarrierData, carrier heat, key2 Export price. Replaced with zeros.\n",
      "Found NaN values in data for investment period period1, node household, key1 CarrierData, carrier heat, key2 Import emission factor. Replaced with zeros.\n",
      "Found NaN values in data for investment period period1, node household, key1 CarrierData, carrier heat, key2 Export emission factor. Replaced with zeros.\n",
      "Found NaN values in data for investment period period1, node household, key1 CarrierData, carrier heat, key2 Generic production. Replaced with zeros.\n",
      "Found NaN values in data for investment period period1, node household, key1 CarrierData, carrier gas, key2 Demand. Replaced with zeros.\n",
      "Found NaN values in data for investment period period1, node household, key1 CarrierData, carrier gas, key2 Export limit. Replaced with zeros.\n",
      "Found NaN values in data for investment period period1, node household, key1 CarrierData, carrier gas, key2 Export price. Replaced with zeros.\n",
      "Found NaN values in data for investment period period1, node household, key1 CarrierData, carrier gas, key2 Import emission factor. Replaced with zeros.\n",
      "Found NaN values in data for investment period period1, node household, key1 CarrierData, carrier gas, key2 Export emission factor. Replaced with zeros.\n",
      "Found NaN values in data for investment period period1, node household, key1 CarrierData, carrier gas, key2 Generic production. Replaced with zeros.\n",
      "Time series read successfully\n",
      "Node Locations read successfully\n",
      "Energy balance options read successfully\n",
      "Deriving performance data for Heat Pump...\n",
      "Complete:  90.0 %99999999999 %%"
     ]
    },
    {
     "name": "stderr",
     "output_type": "stream",
     "text": [
      "INFO:Technology data read successfully\n"
     ]
    },
    {
     "name": "stdout",
     "output_type": "stream",
     "text": [
      "Complete:  99.0 %Complete:  100 %\n"
     ]
    },
    {
     "name": "stderr",
     "output_type": "stream",
     "text": [
      "INFO:Network data read successfully\n",
      "INFO:--- Reading in data complete ---\n",
      "INFO:--- Constructing Model ---\n",
      "INFO:Constructing Investment Period period1\n",
      "INFO:Constructing Investment Period period1 completed\n"
     ]
    },
    {
     "name": "stdout",
     "output_type": "stream",
     "text": [
      "Technology data read successfully\n",
      "Network data read successfully\n",
      "--- Reading in data complete ---\n",
      "--- Constructing Model ---\n",
      "Constructing Investment Period period1\n"
     ]
    },
    {
     "name": "stderr",
     "output_type": "stream",
     "text": [
      "INFO:\t - Adding Technology Photovoltaic\n"
     ]
    },
    {
     "name": "stdout",
     "output_type": "stream",
     "text": [
      "\t - Adding Technology Photovoltaic\n"
     ]
    },
    {
     "name": "stderr",
     "output_type": "stream",
     "text": [
      "WARNING:DEPRECATED: Using __getitem__ to return a set value from its (ordered)\n",
      "position is deprecated.  Please use at()  (deprecated in 6.1, will be\n",
      "removed in (or after) 7.0)\n",
      "(called from C:\\Users\\0954659\\OneDrive - Universiteit Utrecht\\Documents\\EHUB-Py\\adopt_net0\\components\\technologies\\technology.py:905)\n",
      "INFO:\t - Adding Technology HeatPump_AirSourced\n"
     ]
    },
    {
     "name": "stdout",
     "output_type": "stream",
     "text": [
      "\t - Adding Technology HeatPump_AirSourced\n"
     ]
    },
    {
     "name": "stderr",
     "output_type": "stream",
     "text": [
      "INFO:\t - Adding Technology Storage_Battery\n"
     ]
    },
    {
     "name": "stdout",
     "output_type": "stream",
     "text": [
      "\t - Adding Technology Storage_Battery\n"
     ]
    },
    {
     "name": "stderr",
     "output_type": "stream",
     "text": [
      "INFO:\t\t\tgdp.bigm Transformation...\n"
     ]
    },
    {
     "name": "stdout",
     "output_type": "stream",
     "text": [
      "\t\t\tgdp.bigm Transformation...\n"
     ]
    },
    {
     "name": "stderr",
     "output_type": "stream",
     "text": [
      "INFO:\t\t\tgdp.bigm Transformation completed in 3 s\n",
      "INFO:\t - Adding Technology Boiler_Small_NG\n"
     ]
    },
    {
     "name": "stdout",
     "output_type": "stream",
     "text": [
      "\t - Adding Technology Boiler_Small_NG\n"
     ]
    },
    {
     "name": "stderr",
     "output_type": "stream",
     "text": [
      "INFO:Constructing model completed in 14s\n",
      "INFO:Constructing balances...\n"
     ]
    },
    {
     "name": "stdout",
     "output_type": "stream",
     "text": [
      "Constructing model completed in 14s\n",
      "Constructing balances...\n"
     ]
    },
    {
     "name": "stderr",
     "output_type": "stream",
     "text": [
      "INFO:Constructing balances completed in 2s\n",
      "INFO:Set objective on cost\n",
      "INFO:Set parameter Username\n",
      "INFO:Academic license - for non-commercial use only - expires 2025-01-09\n"
     ]
    },
    {
     "name": "stdout",
     "output_type": "stream",
     "text": [
      "Constructing balances completed in 2s\n",
      "Set objective on cost\n",
      "____________________________________________________________\n",
      "Solving Model...\n",
      "Set parameter LogFile to value \"userData\\20240620234101-1\\solver_log.txt\"\n"
     ]
    },
    {
     "name": "stderr",
     "output_type": "stream",
     "text": [
      "INFO:Set parameter LogFile to value \"userData\\20240620234101-1\\solver_log.txt\"\n"
     ]
    },
    {
     "name": "stdout",
     "output_type": "stream",
     "text": [
      "Solver log file: userData\\20240620234101-1\\solver_log.txt\n",
      "Set parameter TimeLimit to value 36000\n"
     ]
    },
    {
     "name": "stderr",
     "output_type": "stream",
     "text": [
      "INFO:Set parameter TimeLimit to value 36000\n"
     ]
    },
    {
     "name": "stdout",
     "output_type": "stream",
     "text": [
      "Set parameter MIPGap to value 0.02\n"
     ]
    },
    {
     "name": "stderr",
     "output_type": "stream",
     "text": [
      "INFO:Set parameter MIPGap to value 0.02\n"
     ]
    },
    {
     "name": "stdout",
     "output_type": "stream",
     "text": [
      "Set parameter NodefileStart to value 60\n"
     ]
    },
    {
     "name": "stderr",
     "output_type": "stream",
     "text": [
      "INFO:Set parameter NodefileStart to value 60\n"
     ]
    },
    {
     "name": "stdout",
     "output_type": "stream",
     "text": [
      "Set parameter LPWarmStart to value 0\n"
     ]
    },
    {
     "name": "stderr",
     "output_type": "stream",
     "text": [
      "INFO:Set parameter LPWarmStart to value 0\n"
     ]
    },
    {
     "name": "stdout",
     "output_type": "stream",
     "text": [
      "Gurobi Optimizer version 11.0.1 build v11.0.1rc0 (win64 - Windows 10.0 (19045.2))\n"
     ]
    },
    {
     "name": "stderr",
     "output_type": "stream",
     "text": [
      "INFO:Gurobi Optimizer version 11.0.1 build v11.0.1rc0 (win64 - Windows 10.0 (19045.2))\n"
     ]
    },
    {
     "name": "stdout",
     "output_type": "stream",
     "text": [
      "\n"
     ]
    },
    {
     "name": "stderr",
     "output_type": "stream",
     "text": [
      "INFO:\n"
     ]
    },
    {
     "name": "stdout",
     "output_type": "stream",
     "text": [
      "CPU model: 12th Gen Intel(R) Core(TM) i7-1255U, instruction set [SSE2|AVX|AVX2]\n"
     ]
    },
    {
     "name": "stderr",
     "output_type": "stream",
     "text": [
      "INFO:CPU model: 12th Gen Intel(R) Core(TM) i7-1255U, instruction set [SSE2|AVX|AVX2]\n"
     ]
    },
    {
     "name": "stdout",
     "output_type": "stream",
     "text": [
      "Thread count: 10 physical cores, 12 logical processors, using up to 12 threads\n"
     ]
    },
    {
     "name": "stderr",
     "output_type": "stream",
     "text": [
      "INFO:Thread count: 10 physical cores, 12 logical processors, using up to 12 threads\n"
     ]
    },
    {
     "name": "stdout",
     "output_type": "stream",
     "text": [
      "\n"
     ]
    },
    {
     "name": "stderr",
     "output_type": "stream",
     "text": [
      "INFO:\n"
     ]
    },
    {
     "name": "stdout",
     "output_type": "stream",
     "text": [
      "Optimize a model with 560679 rows, 543162 columns and 1261407 nonzeros\n"
     ]
    },
    {
     "name": "stderr",
     "output_type": "stream",
     "text": [
      "INFO:Optimize a model with 560679 rows, 543162 columns and 1261407 nonzeros\n"
     ]
    },
    {
     "name": "stdout",
     "output_type": "stream",
     "text": [
      "Model fingerprint: 0x770667a7\n"
     ]
    },
    {
     "name": "stderr",
     "output_type": "stream",
     "text": [
      "INFO:Model fingerprint: 0x770667a7\n"
     ]
    },
    {
     "name": "stdout",
     "output_type": "stream",
     "text": [
      "Variable types: 525642 continuous, 17520 integer (17520 binary)\n"
     ]
    },
    {
     "name": "stderr",
     "output_type": "stream",
     "text": [
      "INFO:Variable types: 525642 continuous, 17520 integer (17520 binary)\n"
     ]
    },
    {
     "name": "stdout",
     "output_type": "stream",
     "text": [
      "Coefficient statistics:\n"
     ]
    },
    {
     "name": "stderr",
     "output_type": "stream",
     "text": [
      "INFO:Coefficient statistics:\n"
     ]
    },
    {
     "name": "stdout",
     "output_type": "stream",
     "text": [
      "  Matrix range     [1e-02, 3e+06]\n"
     ]
    },
    {
     "name": "stderr",
     "output_type": "stream",
     "text": [
      "INFO:  Matrix range     [1e-02, 3e+06]\n"
     ]
    },
    {
     "name": "stdout",
     "output_type": "stream",
     "text": [
      "  Objective range  [1e+00, 1e+00]\n"
     ]
    },
    {
     "name": "stderr",
     "output_type": "stream",
     "text": [
      "INFO:  Objective range  [1e+00, 1e+00]\n"
     ]
    },
    {
     "name": "stdout",
     "output_type": "stream",
     "text": [
      "  Bounds range     [3e-03, 8e+11]\n"
     ]
    },
    {
     "name": "stderr",
     "output_type": "stream",
     "text": [
      "INFO:  Bounds range     [3e-03, 8e+11]\n"
     ]
    },
    {
     "name": "stdout",
     "output_type": "stream",
     "text": [
      "  RHS range        [8e-06, 3e+06]\n"
     ]
    },
    {
     "name": "stderr",
     "output_type": "stream",
     "text": [
      "INFO:  RHS range        [8e-06, 3e+06]\n"
     ]
    },
    {
     "name": "stdout",
     "output_type": "stream",
     "text": [
      "Warning: Model contains large bounds\n"
     ]
    },
    {
     "name": "stderr",
     "output_type": "stream",
     "text": [
      "INFO:Warning: Model contains large bounds\n"
     ]
    },
    {
     "name": "stdout",
     "output_type": "stream",
     "text": [
      "         Consider reformulating model or setting NumericFocus parameter\n"
     ]
    },
    {
     "name": "stderr",
     "output_type": "stream",
     "text": [
      "INFO:         Consider reformulating model or setting NumericFocus parameter\n"
     ]
    },
    {
     "name": "stdout",
     "output_type": "stream",
     "text": [
      "         to avoid numerical issues.\n"
     ]
    },
    {
     "name": "stderr",
     "output_type": "stream",
     "text": [
      "INFO:         to avoid numerical issues.\n"
     ]
    },
    {
     "name": "stdout",
     "output_type": "stream",
     "text": [
      "Presolve removed 482221 rows and 490982 columns\n"
     ]
    },
    {
     "name": "stderr",
     "output_type": "stream",
     "text": [
      "INFO:Presolve removed 482221 rows and 490982 columns\n"
     ]
    },
    {
     "name": "stdout",
     "output_type": "stream",
     "text": [
      "Presolve time: 0.14s\n"
     ]
    },
    {
     "name": "stderr",
     "output_type": "stream",
     "text": [
      "INFO:Presolve time: 0.14s\n"
     ]
    },
    {
     "name": "stdout",
     "output_type": "stream",
     "text": [
      "Presolved: 78458 rows, 52180 columns, 200332 nonzeros\n"
     ]
    },
    {
     "name": "stderr",
     "output_type": "stream",
     "text": [
      "INFO:Presolved: 78458 rows, 52180 columns, 200332 nonzeros\n"
     ]
    },
    {
     "name": "stdout",
     "output_type": "stream",
     "text": [
      "Variable types: 43420 continuous, 8760 integer (8760 binary)\n"
     ]
    },
    {
     "name": "stderr",
     "output_type": "stream",
     "text": [
      "INFO:Variable types: 43420 continuous, 8760 integer (8760 binary)\n"
     ]
    },
    {
     "name": "stdout",
     "output_type": "stream",
     "text": [
      "\n"
     ]
    },
    {
     "name": "stderr",
     "output_type": "stream",
     "text": [
      "INFO:\n"
     ]
    },
    {
     "name": "stdout",
     "output_type": "stream",
     "text": [
      "Deterministic concurrent LP optimizer: primal and dual simplex (primal and dual model)\n"
     ]
    },
    {
     "name": "stderr",
     "output_type": "stream",
     "text": [
      "INFO:Deterministic concurrent LP optimizer: primal and dual simplex (primal and dual model)\n"
     ]
    },
    {
     "name": "stdout",
     "output_type": "stream",
     "text": [
      "Showing primal log only...\n"
     ]
    },
    {
     "name": "stderr",
     "output_type": "stream",
     "text": [
      "INFO:Showing primal log only...\n"
     ]
    },
    {
     "name": "stdout",
     "output_type": "stream",
     "text": [
      "\n"
     ]
    },
    {
     "name": "stderr",
     "output_type": "stream",
     "text": [
      "INFO:\n"
     ]
    },
    {
     "name": "stdout",
     "output_type": "stream",
     "text": [
      "Root relaxation presolved: 69312 rows, 43034 columns, 181656 nonzeros\n"
     ]
    },
    {
     "name": "stderr",
     "output_type": "stream",
     "text": [
      "INFO:Root relaxation presolved: 69312 rows, 43034 columns, 181656 nonzeros\n"
     ]
    },
    {
     "name": "stdout",
     "output_type": "stream",
     "text": [
      "\n"
     ]
    },
    {
     "name": "stderr",
     "output_type": "stream",
     "text": [
      "INFO:\n"
     ]
    },
    {
     "name": "stdout",
     "output_type": "stream",
     "text": [
      "Concurrent spin time: 0.48s (can be avoided by choosing Method=3)\n"
     ]
    },
    {
     "name": "stderr",
     "output_type": "stream",
     "text": [
      "INFO:Concurrent spin time: 0.48s (can be avoided by choosing Method=3)\n"
     ]
    },
    {
     "name": "stdout",
     "output_type": "stream",
     "text": [
      "\n"
     ]
    },
    {
     "name": "stderr",
     "output_type": "stream",
     "text": [
      "INFO:\n"
     ]
    },
    {
     "name": "stdout",
     "output_type": "stream",
     "text": [
      "Solved with primal simplex\n"
     ]
    },
    {
     "name": "stderr",
     "output_type": "stream",
     "text": [
      "INFO:Solved with primal simplex\n"
     ]
    },
    {
     "name": "stdout",
     "output_type": "stream",
     "text": [
      "\n"
     ]
    },
    {
     "name": "stderr",
     "output_type": "stream",
     "text": [
      "INFO:\n"
     ]
    },
    {
     "name": "stdout",
     "output_type": "stream",
     "text": [
      "Root relaxation: objective 7.192063e+02, 11521 iterations, 1.71 seconds (0.99 work units)\n"
     ]
    },
    {
     "name": "stderr",
     "output_type": "stream",
     "text": [
      "INFO:Root relaxation: objective 7.192063e+02, 11521 iterations, 1.71 seconds (0.99 work units)\n"
     ]
    },
    {
     "name": "stdout",
     "output_type": "stream",
     "text": [
      "\n"
     ]
    },
    {
     "name": "stderr",
     "output_type": "stream",
     "text": [
      "INFO:\n"
     ]
    },
    {
     "name": "stdout",
     "output_type": "stream",
     "text": [
      "    Nodes    |    Current Node    |     Objective Bounds      |     Work\n"
     ]
    },
    {
     "name": "stderr",
     "output_type": "stream",
     "text": [
      "INFO:    Nodes    |    Current Node    |     Objective Bounds      |     Work\n"
     ]
    },
    {
     "name": "stdout",
     "output_type": "stream",
     "text": [
      " Expl Unexpl |  Obj  Depth IntInf | Incumbent    BestBd   Gap | It/Node Time\n"
     ]
    },
    {
     "name": "stderr",
     "output_type": "stream",
     "text": [
      "INFO: Expl Unexpl |  Obj  Depth IntInf | Incumbent    BestBd   Gap | It/Node Time\n"
     ]
    },
    {
     "name": "stdout",
     "output_type": "stream",
     "text": [
      "\n"
     ]
    },
    {
     "name": "stderr",
     "output_type": "stream",
     "text": [
      "INFO:\n"
     ]
    },
    {
     "name": "stdout",
     "output_type": "stream",
     "text": [
      "*    0     0               0     719.2062782  719.20628  0.00%     -    3s\n"
     ]
    },
    {
     "name": "stderr",
     "output_type": "stream",
     "text": [
      "INFO:*    0     0               0     719.2062782  719.20628  0.00%     -    3s\n"
     ]
    },
    {
     "name": "stdout",
     "output_type": "stream",
     "text": [
      "\n"
     ]
    },
    {
     "name": "stderr",
     "output_type": "stream",
     "text": [
      "INFO:\n"
     ]
    },
    {
     "name": "stdout",
     "output_type": "stream",
     "text": [
      "Explored 1 nodes (11521 simplex iterations) in 3.35 seconds (2.33 work units)\n"
     ]
    },
    {
     "name": "stderr",
     "output_type": "stream",
     "text": [
      "INFO:Explored 1 nodes (11521 simplex iterations) in 3.35 seconds (2.33 work units)\n"
     ]
    },
    {
     "name": "stdout",
     "output_type": "stream",
     "text": [
      "Thread count was 12 (of 12 available processors)\n"
     ]
    },
    {
     "name": "stderr",
     "output_type": "stream",
     "text": [
      "INFO:Thread count was 12 (of 12 available processors)\n"
     ]
    },
    {
     "name": "stdout",
     "output_type": "stream",
     "text": [
      "\n"
     ]
    },
    {
     "name": "stderr",
     "output_type": "stream",
     "text": [
      "INFO:\n"
     ]
    },
    {
     "name": "stdout",
     "output_type": "stream",
     "text": [
      "Solution count 1: 719.206 \n"
     ]
    },
    {
     "name": "stderr",
     "output_type": "stream",
     "text": [
      "INFO:Solution count 1: 719.206 \n"
     ]
    },
    {
     "name": "stdout",
     "output_type": "stream",
     "text": [
      "\n"
     ]
    },
    {
     "name": "stderr",
     "output_type": "stream",
     "text": [
      "INFO:\n"
     ]
    },
    {
     "name": "stdout",
     "output_type": "stream",
     "text": [
      "Optimal solution found (tolerance 2.00e-02)\n"
     ]
    },
    {
     "name": "stderr",
     "output_type": "stream",
     "text": [
      "INFO:Optimal solution found (tolerance 2.00e-02)\n"
     ]
    },
    {
     "name": "stdout",
     "output_type": "stream",
     "text": [
      "Best objective 7.192062781546e+02, best bound 7.192062781546e+02, gap 0.0000%\n"
     ]
    },
    {
     "name": "stderr",
     "output_type": "stream",
     "text": [
      "INFO:Best objective 7.192062781546e+02, best bound 7.192062781546e+02, gap 0.0000%\n"
     ]
    },
    {
     "name": "stdout",
     "output_type": "stream",
     "text": [
      "Set parameter LogFile to value \"\"\n"
     ]
    },
    {
     "name": "stderr",
     "output_type": "stream",
     "text": [
      "INFO:Set parameter LogFile to value \"\"\n",
      "INFO:Writing results to userData\\20240620234101-1\n"
     ]
    },
    {
     "name": "stdout",
     "output_type": "stream",
     "text": [
      "# ==========================================================\n",
      "# = Solver Results                                         =\n",
      "# ==========================================================\n",
      "# ----------------------------------------------------------\n",
      "#   Problem Information\n",
      "# ----------------------------------------------------------\n",
      "Problem: \n",
      "- Name: unknown\n",
      "  Lower bound: 719.2062781546429\n",
      "  Upper bound: 719.2062781546435\n",
      "  Number of objectives: 1\n",
      "  Number of constraints: 560679\n",
      "  Number of variables: 543162\n",
      "  Number of binary variables: 17520\n",
      "  Number of integer variables: 17520\n",
      "  Number of continuous variables: 508122\n",
      "  Number of nonzeros: 1261407\n",
      "  Sense: 1\n",
      "  Number of solutions: 1\n",
      "# ----------------------------------------------------------\n",
      "#   Solver Information\n",
      "# ----------------------------------------------------------\n",
      "Solver: \n",
      "- Name: Gurobi 11.01\n",
      "  Status: ok\n",
      "  Wallclock time: 3.4769999980926514\n",
      "  Termination condition: optimal\n",
      "  Termination message: Model was solved to optimality (subject to tolerances), and an optimal solution is available.\n",
      "# ----------------------------------------------------------\n",
      "#   Solution Information\n",
      "# ----------------------------------------------------------\n",
      "Solution: \n",
      "- number of solutions: 0\n",
      "  number of solutions displayed: 0\n",
      "Writing results to userData\\20240620234101-1\n",
      "Solving model completed in 27 s\n",
      "____________________________________________________________\n"
     ]
    }
   ],
   "source": [
    "m = adopt.ModelHub()\n",
    "m.read_data(input_data_path)\n",
    "m.quick_solve()"
   ]
  },
  {
   "attachments": {
    "3b7f80b5-29d2-4688-9c61-cd804b6fdc73.png": {
     "image/png": "[encoded data removed]"
    },
    "b9a77383-4a58-4010-b550-166b92ed115f.png": {
     "image/png": "[encoded data removed]"
    }
   },
   "cell_type": "markdown",
   "id": "76619a94-fdfb-4e97-81bf-4baa251b18b4",
   "metadata": {},
   "source": [
    "## Visualization\n",
    "The results can be inspected using the provided [visualization platform](https://resultvisualization.streamlit.app/) for some basic plots. The figures below are screenshots from the visualization platform. The results data are saved in the userData folder.\n",
    "\n",
    "### Size of the new technologies\n",
    "The optimization shows that the only technology installed is the heat pump. This means that, in these conditions, it is not economically favourable to install a PV or a battery. The size of the heat pump is 0.6 kW (based on electricity input, not heat output), which complements the existing gas boiler in covering the household's heat demand.\n",
    "\n",
    "## Electricity and Heat requirements\n",
    "<div>\n",
    "<img src=\"attachment:3b7f80b5-29d2-4688-9c61-cd804b6fdc73.png\" width=\"700\"/>\n",
    "</div>\n",
    "\n",
    "### Heat pump operation\n",
    "<div>\n",
    "<img src=\"attachment:b9a77383-4a58-4010-b550-166b92ed115f.png\" width=\"700\"/>\n",
    "</div>\n",
    "\n"
   ]
  }
 ],
 "metadata": {
  "kernelspec": {
   "display_name": "Python 3 (ipykernel)",
   "language": "python",
   "name": "python3"
  },
  "language_info": {
   "codemirror_mode": {
    "name": "ipython",
    "version": 3
   },
   "file_extension": ".py",
   "mimetype": "text/x-python",
   "name": "python",
   "nbconvert_exporter": "python",
   "pygments_lexer": "ipython3",
   "version": "3.12.3"
  }
 },
 "nbformat": 4,
 "nbformat_minor": 5
}
